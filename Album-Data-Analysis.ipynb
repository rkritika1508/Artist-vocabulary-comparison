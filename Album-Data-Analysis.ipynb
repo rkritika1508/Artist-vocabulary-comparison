{
 "cells": [
  {
   "cell_type": "code",
   "execution_count": 1,
   "metadata": {},
   "outputs": [],
   "source": [
    "import numpy as np\n",
    "import pandas as pd\n",
    "import matplotlib.pyplot as plt\n",
    "import seaborn as sns\n",
    "%matplotlib inline"
   ]
  },
  {
   "cell_type": "code",
   "execution_count": 2,
   "metadata": {},
   "outputs": [],
   "source": [
    "album_data = pd.read_csv('album_data.csv')"
   ]
  },
  {
   "cell_type": "code",
   "execution_count": 3,
   "metadata": {},
   "outputs": [
    {
     "data": {
      "text/html": [
       "<div>\n",
       "<style scoped>\n",
       "    .dataframe tbody tr th:only-of-type {\n",
       "        vertical-align: middle;\n",
       "    }\n",
       "\n",
       "    .dataframe tbody tr th {\n",
       "        vertical-align: top;\n",
       "    }\n",
       "\n",
       "    .dataframe thead th {\n",
       "        text-align: right;\n",
       "    }\n",
       "</style>\n",
       "<table border=\"1\" class=\"dataframe\">\n",
       "  <thead>\n",
       "    <tr style=\"text-align: right;\">\n",
       "      <th></th>\n",
       "      <th>Unnamed: 0</th>\n",
       "      <th>artist_id</th>\n",
       "      <th>album_name</th>\n",
       "      <th>album_release_date</th>\n",
       "      <th>album_release_type</th>\n",
       "      <th>album_genre</th>\n",
       "    </tr>\n",
       "  </thead>\n",
       "  <tbody>\n",
       "    <tr>\n",
       "      <th>0</th>\n",
       "      <td>10265982</td>\n",
       "      <td>136</td>\n",
       "      <td>Madman Across the Water</td>\n",
       "      <td>11/5/1971</td>\n",
       "      <td>Album</td>\n",
       "      <td>[{'music_genre': {'music_genre_id': 14, 'music...</td>\n",
       "    </tr>\n",
       "    <tr>\n",
       "      <th>1</th>\n",
       "      <td>10266030</td>\n",
       "      <td>356</td>\n",
       "      <td>Van Halen</td>\n",
       "      <td>2/7/1978</td>\n",
       "      <td>Album</td>\n",
       "      <td>[{'music_genre': {'music_genre_id': 14, 'music...</td>\n",
       "    </tr>\n",
       "    <tr>\n",
       "      <th>2</th>\n",
       "      <td>10266032</td>\n",
       "      <td>380</td>\n",
       "      <td>Reggatta de Blanc</td>\n",
       "      <td>1985</td>\n",
       "      <td>Album</td>\n",
       "      <td>[]</td>\n",
       "    </tr>\n",
       "    <tr>\n",
       "      <th>3</th>\n",
       "      <td>10266038</td>\n",
       "      <td>117</td>\n",
       "      <td>A Saucerful of Secrets</td>\n",
       "      <td>1994</td>\n",
       "      <td>Album</td>\n",
       "      <td>[]</td>\n",
       "    </tr>\n",
       "    <tr>\n",
       "      <th>4</th>\n",
       "      <td>10266039</td>\n",
       "      <td>160</td>\n",
       "      <td>Revolver</td>\n",
       "      <td>1987</td>\n",
       "      <td>Album</td>\n",
       "      <td>[]</td>\n",
       "    </tr>\n",
       "  </tbody>\n",
       "</table>\n",
       "</div>"
      ],
      "text/plain": [
       "   Unnamed: 0  artist_id               album_name album_release_date  \\\n",
       "0    10265982        136  Madman Across the Water          11/5/1971   \n",
       "1    10266030        356                Van Halen           2/7/1978   \n",
       "2    10266032        380        Reggatta de Blanc               1985   \n",
       "3    10266038        117   A Saucerful of Secrets               1994   \n",
       "4    10266039        160                 Revolver               1987   \n",
       "\n",
       "  album_release_type                                        album_genre  \n",
       "0              Album  [{'music_genre': {'music_genre_id': 14, 'music...  \n",
       "1              Album  [{'music_genre': {'music_genre_id': 14, 'music...  \n",
       "2              Album                                                 []  \n",
       "3              Album                                                 []  \n",
       "4              Album                                                 []  "
      ]
     },
     "execution_count": 3,
     "metadata": {},
     "output_type": "execute_result"
    }
   ],
   "source": [
    "album_data.head()"
   ]
  },
  {
   "cell_type": "code",
   "execution_count": 4,
   "metadata": {
    "scrolled": true
   },
   "outputs": [
    {
     "name": "stdout",
     "output_type": "stream",
     "text": [
      "<class 'pandas.core.frame.DataFrame'>\n",
      "RangeIndex: 33378 entries, 0 to 33377\n",
      "Data columns (total 6 columns):\n",
      "Unnamed: 0            33378 non-null int64\n",
      "artist_id             33378 non-null int64\n",
      "album_name            33378 non-null object\n",
      "album_release_date    30567 non-null object\n",
      "album_release_type    33378 non-null object\n",
      "album_genre           33378 non-null object\n",
      "dtypes: int64(2), object(4)\n",
      "memory usage: 1.0+ MB\n"
     ]
    }
   ],
   "source": [
    "album_data.info()"
   ]
  },
  {
   "cell_type": "code",
   "execution_count": 5,
   "metadata": {},
   "outputs": [
    {
     "data": {
      "text/html": [
       "<div>\n",
       "<style scoped>\n",
       "    .dataframe tbody tr th:only-of-type {\n",
       "        vertical-align: middle;\n",
       "    }\n",
       "\n",
       "    .dataframe tbody tr th {\n",
       "        vertical-align: top;\n",
       "    }\n",
       "\n",
       "    .dataframe thead th {\n",
       "        text-align: right;\n",
       "    }\n",
       "</style>\n",
       "<table border=\"1\" class=\"dataframe\">\n",
       "  <thead>\n",
       "    <tr style=\"text-align: right;\">\n",
       "      <th></th>\n",
       "      <th>Unnamed: 0</th>\n",
       "      <th>artist_id</th>\n",
       "    </tr>\n",
       "  </thead>\n",
       "  <tbody>\n",
       "    <tr>\n",
       "      <th>count</th>\n",
       "      <td>3.337800e+04</td>\n",
       "      <td>3.337800e+04</td>\n",
       "    </tr>\n",
       "    <tr>\n",
       "      <th>mean</th>\n",
       "      <td>1.520035e+07</td>\n",
       "      <td>3.561436e+06</td>\n",
       "    </tr>\n",
       "    <tr>\n",
       "      <th>std</th>\n",
       "      <td>4.214849e+06</td>\n",
       "      <td>1.005433e+07</td>\n",
       "    </tr>\n",
       "    <tr>\n",
       "      <th>min</th>\n",
       "      <td>1.026598e+07</td>\n",
       "      <td>1.300000e+01</td>\n",
       "    </tr>\n",
       "    <tr>\n",
       "      <th>25%</th>\n",
       "      <td>1.099505e+07</td>\n",
       "      <td>1.340000e+02</td>\n",
       "    </tr>\n",
       "    <tr>\n",
       "      <th>50%</th>\n",
       "      <td>1.421826e+07</td>\n",
       "      <td>4.520000e+02</td>\n",
       "    </tr>\n",
       "    <tr>\n",
       "      <th>75%</th>\n",
       "      <td>1.723057e+07</td>\n",
       "      <td>6.882000e+03</td>\n",
       "    </tr>\n",
       "    <tr>\n",
       "      <th>max</th>\n",
       "      <td>2.897458e+07</td>\n",
       "      <td>3.544855e+07</td>\n",
       "    </tr>\n",
       "  </tbody>\n",
       "</table>\n",
       "</div>"
      ],
      "text/plain": [
       "         Unnamed: 0     artist_id\n",
       "count  3.337800e+04  3.337800e+04\n",
       "mean   1.520035e+07  3.561436e+06\n",
       "std    4.214849e+06  1.005433e+07\n",
       "min    1.026598e+07  1.300000e+01\n",
       "25%    1.099505e+07  1.340000e+02\n",
       "50%    1.421826e+07  4.520000e+02\n",
       "75%    1.723057e+07  6.882000e+03\n",
       "max    2.897458e+07  3.544855e+07"
      ]
     },
     "execution_count": 5,
     "metadata": {},
     "output_type": "execute_result"
    }
   ],
   "source": [
    "album_data.describe()"
   ]
  },
  {
   "cell_type": "code",
   "execution_count": 6,
   "metadata": {},
   "outputs": [
    {
     "data": {
      "text/plain": [
       "Index(['Unnamed: 0', 'artist_id', 'album_name', 'album_release_date',\n",
       "       'album_release_type', 'album_genre'],\n",
       "      dtype='object')"
      ]
     },
     "execution_count": 6,
     "metadata": {},
     "output_type": "execute_result"
    }
   ],
   "source": [
    "album_data.columns"
   ]
  },
  {
   "cell_type": "code",
   "execution_count": 7,
   "metadata": {},
   "outputs": [],
   "source": [
    "album_data.rename(columns={'Unnamed: 0':'album_id'}, inplace=True)"
   ]
  },
  {
   "cell_type": "code",
   "execution_count": 9,
   "metadata": {},
   "outputs": [],
   "source": [
    "sns.set_style('whitegrid')"
   ]
  },
  {
   "cell_type": "code",
   "execution_count": 10,
   "metadata": {},
   "outputs": [
    {
     "data": {
      "text/plain": [
       "<matplotlib.axes._subplots.AxesSubplot at 0xd05b230>"
      ]
     },
     "execution_count": 10,
     "metadata": {},
     "output_type": "execute_result"
    },
    {
     "data": {
      "image/png": "[encoded data removed]",
      "text/plain": [
       "<Figure size 432x288 with 1 Axes>"
      ]
     },
     "metadata": {},
     "output_type": "display_data"
    }
   ],
   "source": [
    "sns.countplot(x='album_release_type', data=album_data)"
   ]
  },
  {
   "cell_type": "code",
   "execution_count": 16,
   "metadata": {},
   "outputs": [
    {
     "data": {
      "text/plain": [
       "<matplotlib.axes._subplots.AxesSubplot at 0x5e273d0>"
      ]
     },
     "execution_count": 16,
     "metadata": {},
     "output_type": "execute_result"
    },
    {
     "data": {
      "image/png": "[encoded data removed]",
      "text/plain": [
       "<Figure size 432x288 with 1 Axes>"
      ]
     },
     "metadata": {},
     "output_type": "display_data"
    }
   ],
   "source": [
    "album_data = album_data[album_data.album_release_type != 'Compilation']\n",
    "album_data = album_data[album_data.album_release_type != 'Single']\n",
    "sns.countplot(x='album_release_type', data=album_data)"
   ]
  },
  {
   "cell_type": "code",
   "execution_count": 18,
   "metadata": {},
   "outputs": [
    {
     "data": {
      "text/plain": [
       "Index(['album_id', 'artist_id', 'album_name', 'album_release_date',\n",
       "       'album_release_type', 'album_genre'],\n",
       "      dtype='object')"
      ]
     },
     "execution_count": 18,
     "metadata": {},
     "output_type": "execute_result"
    }
   ],
   "source": [
    "album_data.columns"
   ]
  },
  {
   "cell_type": "code",
   "execution_count": null,
   "metadata": {},
   "outputs": [],
   "source": []
  }
 ],
 "metadata": {
  "kernelspec": {
   "display_name": "Python 3",
   "language": "python",
   "name": "python3"
  },
  "language_info": {
   "codemirror_mode": {
    "name": "ipython",
    "version": 3
   },
   "file_extension": ".py",
   "mimetype": "text/x-python",
   "name": "python",
   "nbconvert_exporter": "python",
   "pygments_lexer": "ipython3",
   "version": "3.6.4"
  }
 },
 "nbformat": 4,
 "nbformat_minor": 2
}
